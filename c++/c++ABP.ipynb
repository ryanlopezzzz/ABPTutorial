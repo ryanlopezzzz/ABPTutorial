{
 "cells": [
  {
   "cell_type": "markdown",
   "metadata": {
    "slideshow": {
     "slide_type": "slide"
    }
   },
   "source": [
    "# ABP C++ approach\n",
    "\n",
    "## KITP20 Tutorials"
   ]
  },
  {
   "cell_type": "markdown",
   "metadata": {
    "slideshow": {
     "slide_type": "slide"
    }
   },
   "source": [
    "# Plan"
   ]
  },
  {
   "cell_type": "markdown",
   "metadata": {
    "slideshow": {
     "slide_type": "fragment"
    }
   },
   "source": [
    "0. Particle Class\n",
    "\n",
    "1. Force Class:\n",
    "\n",
    "    (a) Inheritance.\n",
    "    \n",
    "    (b) Virtual functions.\n",
    "    \n",
    "    (c) Smart pointers.\n",
    "\n",
    "2. Linked list: C++\n",
    "\n",
    "3. Integrator Class\n",
    "\n",
    "4. Python binding: Pybind11"
   ]
  },
  {
   "cell_type": "markdown",
   "metadata": {
    "slideshow": {
     "slide_type": "slide"
    }
   },
   "source": [
    "# Before you start\n",
    "\n",
    "To compile and execute the codes here you will need to have:\n",
    "\n",
    "1. CMAKE 3.8 or above\n",
    "2. gcc/clang with c++14 support \n",
    "3. Python 3.7"
   ]
  },
  {
   "cell_type": "markdown",
   "metadata": {
    "slideshow": {
     "slide_type": "slide"
    }
   },
   "source": [
    "# 0. Particle Class\n",
    "\n",
    "Following the python approach we have created a particle class [CODE:](https://gist.github.com/fdmatoz/4df3c4e6e50e7070f402fdaae94f712a)\n",
    "<script src=\"https://gist.github.com/fdmatoz/4df3c4e6e50e7070f402fdaae94f712a.js\"></script>"
   ]
  },
  {
   "cell_type": "markdown",
   "metadata": {
    "slideshow": {
     "slide_type": "slide"
    }
   },
   "source": [
    "and the corresponding uper class with all the particles [CODE:](https://gist.github.com/fdmatoz/5be807b5919ef819a3d0e35ddfff98bf)\n",
    "<script src=\"https://gist.github.com/fdmatoz/3589c3b35011e7c565310f097f821b4c.js\"></script>"
   ]
  },
  {
   "cell_type": "code",
   "execution_count": null,
   "metadata": {},
   "outputs": [],
   "source": []
  }
 ],
 "metadata": {
  "kernelspec": {
   "display_name": "Python 3",
   "language": "python",
   "name": "python3"
  },
  "language_info": {
   "codemirror_mode": {
    "name": "ipython",
    "version": 3
   },
   "file_extension": ".py",
   "mimetype": "text/x-python",
   "name": "python",
   "nbconvert_exporter": "python",
   "pygments_lexer": "ipython3",
   "version": "3.7.5"
  }
 },
 "nbformat": 4,
 "nbformat_minor": 4
}
